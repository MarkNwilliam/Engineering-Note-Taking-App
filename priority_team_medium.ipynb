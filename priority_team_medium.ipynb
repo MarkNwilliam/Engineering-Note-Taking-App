{
  "cells": [
    {
      "cell_type": "markdown",
      "metadata": {
        "id": "view-in-github",
        "colab_type": "text"
      },
      "source": [
        "<a href=\"https://colab.research.google.com/github/MarkNwilliam/Engineering-Note-Taking-App/blob/master/priority_team_medium.ipynb\" target=\"_parent\"><img src=\"https://colab.research.google.com/assets/colab-badge.svg\" alt=\"Open In Colab\"/></a>"
      ]
    },
    {
      "cell_type": "markdown",
      "metadata": {
        "pycharm": {
          "name": "#%% md\n"
        },
        "id": "IFHsrqaDS0-P"
      },
      "source": [
        "# Coding Exercise\n",
        "Below you'll find a prompt describing a function that you need to implement.\n",
        "\n",
        "1. **Instead of changing existing code in place, create a new cell and rewrite the code.** This is important because we can't see the history of edited cells in the notebook.\n",
        "2. **Before you write code, explain what you’re about to do.** For example, if the previous cell has an error that you want to fix, explain what caused the error and how you plan to fix it.\n",
        "3. **Before you execute code that has outputs, think about what you hope to learn.** This notebook will prompt you write down your thought process. Do not update your explanation after seeing the output, unless you made a genuine mistake when guessing (e.g. typo).\n",
        "\n",
        "This notebook will prompt you with questions. Please answer them in the markdown cell. Do not modify the questions. Your answers should be specific to the code that you are writing, so please avoid generic answers. For example, if asked, \"What do you plan to do?\", please avoid simply answering, \"I will test the code.\" Instead explain how you will test the code and why (e.g. \"I will now test the edge case of an empty list, which should return...\")."
      ]
    },
    {
      "cell_type": "markdown",
      "metadata": {
        "collapsed": true,
        "execution_time": [
          1657630615134,
          1657634786820
        ],
        "pycharm": {
          "name": "#%% md\n"
        },
        "id": "iVt9i5HVS0-9"
      },
      "source": [
        "## Task 2 Prompt\n",
        "\n",
        "There are $n$ ($n$ is even) players, conveniently labelled $1, 2, \\ldots n$. These players will play $m$ rounds of games. In each round of games, the players are split into two teams of $\\frac{n}{2}$ players each. Two players $x < y$ are said to have played against each other if they were on different teams for one of the $m$ games.\n",
        "\n",
        "### Task\n",
        "You are given three arguments: `n, m, games`. Your task is to check that for all pairs of players $1 \\leq x, y \\leq n$, player $x$ has played against $y$. `games` is a 2-dimensional list that represents the $m$ rounds of games among $n$ players.\n",
        "\n",
        "Write a function `check(n, m, games)` that takes in 3 arguments.\n",
        "\n",
        "### Inputs\n",
        "\n",
        "It is guaranteed that $n, m$ are integers and $1 \\leq n \\leq 20,000$, $1\\leq m \\leq 30$. It is also guaranteed that $n$ is even.\n",
        "\n",
        " `games` is a 2 dimensional list with `m` rows and `n` columns, where `games[i]` is a permutation of `1,2,3,...,n` representing round number $i$. In particular for round `i`, `games[i][0], games[i][1], games[i][n/2-1]` is on one team, `games[i][n/2], games[i][n/2+1], games[i][n-1]` is on the other team.\n",
        "\n",
        "### Outputs\n",
        "\n",
        "`check(n, m, games)` should return a boolean, True if and only if all pairs of players have played against each other in the $m$ rounds of games.\n",
        "\n",
        "### Examples\n",
        "\n",
        "`check(2, 1, [[1, 2]]) = True`\n",
        "\n",
        "`check(4, 2, [[1, 2, 3, 4], [4, 3, 1, 2]]) = False`\n",
        "\n",
        "`check(4, 2, [[1, 2, 3, 4], [1, 3, 2, 4]]) = True`\n",
        "\n",
        "`check(6, 6, [[1, 6, 3, 4, 5, 2], [6, 4, 2, 3, 1, 5], [4, 2, 1, 5, 6, 3], [4, 5, 1, 6, 2, 3], [3, 2, 5, 1, 6, 4], [2, 3, 6, 4, 1, 5]]) = True`\n",
        "\n",
        "`check(6, 6, [[3, 1, 4, 5, 6, 2], [5, 3, 2, 4, 1, 6], [5, 3, 6, 4, 2, 1], [6, 5, 3, 2, 1, 4], [5, 4, 1, 2, 6, 3], [4, 1, 6, 2, 5, 3]]) = False`"
      ]
    },
    {
      "cell_type": "code",
      "source": [
        "def check(n, m, games):\n",
        "    pairs = set()\n",
        "    \n",
        "    for game in games:\n",
        "        for i in range(n//2):\n",
        "            pairs.add((game[i], game[i + n//2]))\n",
        "    \n",
        "    return len(pairs) == n * (n - 1) // 2\n",
        "\n",
        "    "
      ],
      "metadata": {
        "id": "6sgIwKPTmMwv"
      },
      "execution_count": 1,
      "outputs": []
    },
    {
      "cell_type": "markdown",
      "metadata": {
        "collapsed": true,
        "execution_time": [
          1657630615134,
          1657634786820
        ],
        "pycharm": {
          "name": "#%% md\n"
        },
        "id": "XzniC8m7mpKD"
      },
      "source": [
        "## Task 2 Prompt\n",
        "\n",
        "There are $n$ ($n$ is even) players, conveniently labelled $1, 2, \\ldots n$. These players will play $m$ rounds of games. In each round of games, the players are split into two teams of $\\frac{n}{2}$ players each. Two players $x < y$ are said to have played against each other if they were on different teams for one of the $m$ games.\n",
        "\n",
        "### Task\n",
        "You are given three arguments: `n, m, games`. Your task is to check that for all pairs of players $1 \\leq x, y \\leq n$, player $x$ has played against $y$. `games` is a 2-dimensional list that represents the $m$ rounds of games among $n$ players.\n",
        "\n",
        "Write a function `check(n, m, games)` that takes in 3 arguments.\n",
        "\n",
        "### Inputs\n",
        "\n",
        "It is guaranteed that $n, m$ are integers and $1 \\leq n \\leq 20,000$, $1\\leq m \\leq 30$. It is also guaranteed that $n$ is even.\n",
        "\n",
        " `games` is a 2 dimensional list with `m` rows and `n` columns, where `games[i]` is a permutation of `1,2,3,...,n` representing round number $i$. In particular for round `i`, `games[i][0], games[i][1], games[i][n/2-1]` is on one team, `games[i][n/2], games[i][n/2+1], games[i][n-1]` is on the other team.\n",
        "\n",
        "### Outputs\n",
        "\n",
        "`check(n, m, games)` should return a boolean, True if and only if all pairs of players have played against each other in the $m$ rounds of games.\n",
        "\n",
        "### Examples\n",
        "\n",
        "`check(2, 1, [[1, 2]]) = True`\n",
        "\n",
        "`check(4, 2, [[1, 2, 3, 4], [4, 3, 1, 2]]) = False`\n",
        "\n",
        "`check(4, 2, [[1, 2, 3, 4], [1, 3, 2, 4]]) = True`\n",
        "\n",
        "`check(6, 6, [[1, 6, 3, 4, 5, 2], [6, 4, 2, 3, 1, 5], [4, 2, 1, 5, 6, 3], [4, 5, 1, 6, 2, 3], [3, 2, 5, 1, 6, 4], [2, 3, 6, 4, 1, 5]]) = True`\n",
        "\n",
        "`check(6, 6, [[3, 1, 4, 5, 6, 2], [5, 3, 2, 4, 1, 6], [5, 3, 6, 4, 2, 1], [6, 5, 3, 2, 1, 4], [5, 4, 1, 2, 6, 3], [4, 1, 6, 2, 5, 3]]) = False`"
      ]
    },
    {
      "cell_type": "markdown",
      "metadata": {
        "collapsed": true,
        "execution_time": [
          1657630615134,
          1657634786820
        ],
        "pycharm": {
          "name": "#%% md\n"
        },
        "id": "X59sWmWEmof_"
      },
      "source": [
        "## Task 2 Prompt\n",
        "\n",
        "There are $n$ ($n$ is even) players, conveniently labelled $1, 2, \\ldots n$. These players will play $m$ rounds of games. In each round of games, the players are split into two teams of $\\frac{n}{2}$ players each. Two players $x < y$ are said to have played against each other if they were on different teams for one of the $m$ games.\n",
        "\n",
        "### Task\n",
        "You are given three arguments: `n, m, games`. Your task is to check that for all pairs of players $1 \\leq x, y \\leq n$, player $x$ has played against $y$. `games` is a 2-dimensional list that represents the $m$ rounds of games among $n$ players.\n",
        "\n",
        "Write a function `check(n, m, games)` that takes in 3 arguments.\n",
        "\n",
        "### Inputs\n",
        "\n",
        "It is guaranteed that $n, m$ are integers and $1 \\leq n \\leq 20,000$, $1\\leq m \\leq 30$. It is also guaranteed that $n$ is even.\n",
        "\n",
        " `games` is a 2 dimensional list with `m` rows and `n` columns, where `games[i]` is a permutation of `1,2,3,...,n` representing round number $i$. In particular for round `i`, `games[i][0], games[i][1], games[i][n/2-1]` is on one team, `games[i][n/2], games[i][n/2+1], games[i][n-1]` is on the other team.\n",
        "\n",
        "### Outputs\n",
        "\n",
        "`check(n, m, games)` should return a boolean, True if and only if all pairs of players have played against each other in the $m$ rounds of games.\n",
        "\n",
        "### Examples\n",
        "\n",
        "`check(2, 1, [[1, 2]]) = True`\n",
        "\n",
        "`check(4, 2, [[1, 2, 3, 4], [4, 3, 1, 2]]) = False`\n",
        "\n",
        "`check(4, 2, [[1, 2, 3, 4], [1, 3, 2, 4]]) = True`\n",
        "\n",
        "`check(6, 6, [[1, 6, 3, 4, 5, 2], [6, 4, 2, 3, 1, 5], [4, 2, 1, 5, 6, 3], [4, 5, 1, 6, 2, 3], [3, 2, 5, 1, 6, 4], [2, 3, 6, 4, 1, 5]]) = True`\n",
        "\n",
        "`check(6, 6, [[3, 1, 4, 5, 6, 2], [5, 3, 2, 4, 1, 6], [5, 3, 6, 4, 2, 1], [6, 5, 3, 2, 1, 4], [5, 4, 1, 2, 6, 3], [4, 1, 6, 2, 5, 3]]) = False`"
      ]
    },
    {
      "cell_type": "markdown",
      "source": [
        " I will define the function check() that takes in three arguments n, m, and games. Then, I will create an empty set called pairs which will store the pairs of players that have played against each other.\n",
        "\n",
        "Next, I will iterate through the games list and for each round, I will extract the pairs of players that have played against each other and add them to the pairs set. To do this, I will iterate through the first half of the players in the current round and for each player, I will find the player that they played against by indexing into the second half of the players using the player's index. For example, if the current player is at index i, their opponent will be at index i + n/2.\n",
        "\n",
        "Finally, I will return True if the number of pairs in the pairs set is equal to n * (n - 1) / 2, which is the total number of pairs of players, and False otherwise. This will ensure that all pairs of players have played against each other at least once."
      ],
      "metadata": {
        "id": "H9BJ3uVjmFTk"
      }
    },
    {
      "cell_type": "markdown",
      "source": [
        "**Qn, How will you begin ?**"
      ],
      "metadata": {
        "id": "Mb81zFkgTORN"
      }
    }
  ],
  "metadata": {
    "kernelspec": {
      "display_name": "Python 3 (ipykernel)",
      "language": "python",
      "name": "python3"
    },
    "language_info": {
      "codemirror_mode": {
        "name": "ipython",
        "version": 3
      },
      "file_extension": ".py",
      "mimetype": "text/x-python",
      "name": "python",
      "nbconvert_exporter": "python",
      "pygments_lexer": "ipython3",
      "version": "3.8.12"
    },
    "colab": {
      "provenance": [],
      "include_colab_link": true
    }
  },
  "nbformat": 4,
  "nbformat_minor": 0
}