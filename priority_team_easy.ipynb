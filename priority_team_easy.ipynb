{
  "cells": [
    {
      "cell_type": "markdown",
      "metadata": {
        "id": "view-in-github",
        "colab_type": "text"
      },
      "source": [
        "<a href=\"https://colab.research.google.com/github/MarkNwilliam/Engineering-Note-Taking-App/blob/master/priority_team_easy.ipynb\" target=\"_parent\"><img src=\"https://colab.research.google.com/assets/colab-badge.svg\" alt=\"Open In Colab\"/></a>"
      ]
    },
    {
      "cell_type": "markdown",
      "metadata": {
        "pycharm": {
          "name": "#%% md\n"
        },
        "id": "eF-5DSBCRPD6"
      },
      "source": [
        "# Coding Exercise\n",
        "Below you'll find a prompt describing a function that you need to implement.\n",
        "\n",
        "1. **Instead of changing existing code in place, create a new cell and rewrite the code.** This is important because we can't see the history of edited cells in the notebook.\n",
        "2. **Before you write code, explain what you’re about to do.** For example, if the previous cell has an error that you want to fix, explain what caused the error and how you plan to fix it.\n",
        "3. **Before you execute code that has outputs, think about what you hope to learn.** This notebook will prompt you write down your thought process. Do not update your explanation after seeing the output, unless you made a genuine mistake when guessing (e.g. typo).\n",
        "\n",
        "This notebook will prompt you with questions. Please answer them in the markdown cell. Do not modify the questions. Your answers should be specific to the code that you are writing, so please avoid generic answers. For example, if asked, \"What do you plan to do?\", please avoid simply answering, \"I will test the code.\" Instead explain how you will test the code and why (e.g. \"I will now test the edge case of an empty list, which should return...\")."
      ]
    },
    {
      "cell_type": "markdown",
      "metadata": {
        "collapsed": true,
        "execution_time": [
          1657630630305
        ],
        "pycharm": {
          "name": "#%% md\n"
        },
        "id": "DOPViXo5RPFc"
      },
      "source": [
        "## Task 1 Prompt\n",
        "\n",
        "Have you heard of the fibonacci sequence? It is defined by $f_0 = 0, f_1 = 1$ and $f_n=f_{n-1}+ f_{n-2}$ for $n\\geq 2$.\n",
        "\n",
        "This question is about a similar sequence, called gibonacci sequence. It is defined by $g_0 = x, g_1 = y$ and $g_n=g_{n-1}- g_{n-2}$ for $n\\geq 2$. Different possible starting values of the gibonacci sequence may lead to different gibonacci sequences.\n",
        "\n",
        "### Task\n",
        "You are given three arguments: `n, x, y`. Your task is to find $g_n$ using the above definition of a gibonacci sequence starting with $g_0=x, g_1=y$\n",
        "\n",
        "Write a function `gibonacci(n, x, y)` that takes in 3 arguments.\n",
        "\n",
        "### Inputs\n",
        "\n",
        "It is guaranteed that $n,x,y$ are integers and $0 \\leq n,x,y \\leq 10^9$.\n",
        "\n",
        "### Outputs\n",
        "\n",
        "`gibonacci(n, x, y)` should return $g_n$ given that $g_0=x, g_1=y$.\n",
        "\n",
        "### Examples\n",
        "\n",
        "`gibonacci(0, 0, 1) = 0`\n",
        "\n",
        "`gibonacci(1, 0, 1) = 1`\n",
        "\n",
        "`gibonacci(2, 0, 1) = 1`\n",
        "\n",
        "`gibonacci(3, 0, 1) = 0`"
      ]
    },
    {
      "cell_type": "code",
      "source": [
        "def gibonacci(n, x, y):\n",
        "    if n == 0:\n",
        "        return x\n",
        "    elif n == 1:\n",
        "        return y\n",
        "    else:\n",
        "        for i in range(2, n+1):\n",
        "            x, y = y, x - y\n",
        "        return y\n",
        "\n",
        "ans = gibonacci(10, 1, 0)\n",
        "print(ans)        \n"
      ],
      "metadata": {
        "id": "AnnOcD9ai0yG",
        "outputId": "0101234e-1522-47ef-b69a-001b2416b2a3",
        "colab": {
          "base_uri": "https://localhost:8080/"
        }
      },
      "execution_count": 13,
      "outputs": [
        {
          "output_type": "stream",
          "name": "stdout",
          "text": [
            "34\n"
          ]
        }
      ]
    },
    {
      "cell_type": "markdown",
      "source": [
        "To begin, I will define the function gibonacci() that takes in three arguments n, x, and y. Then, I will use an if-else statement to handle the base cases where n is 0 or 1, and return x or y respectively. For the case where n is greater than or equal to 2, I will use a for loop to iterate through the range 2 to n, and update the values of x and y using the gibonacci sequence definition. Finally, I will return the value of y which will be the gn of the gibonacci sequence."
      ],
      "metadata": {
        "id": "Vo3ylN4bjALl"
      }
    },
    {
      "cell_type": "markdown",
      "source": [
        "**Qn, How will you begin ?**"
      ],
      "metadata": {
        "id": "Mb81zFkgTORN"
      }
    },
    {
      "cell_type": "markdown",
      "source": [],
      "metadata": {
        "id": "pe778ttwi0DQ"
      }
    }
  ],
  "metadata": {
    "kernelspec": {
      "display_name": "Python 3 (ipykernel)",
      "language": "python",
      "name": "python3"
    },
    "language_info": {
      "codemirror_mode": {
        "name": "ipython",
        "version": 3
      },
      "file_extension": ".py",
      "mimetype": "text/x-python",
      "name": "python",
      "nbconvert_exporter": "python",
      "pygments_lexer": "ipython3",
      "version": "3.8.12"
    },
    "colab": {
      "provenance": [],
      "include_colab_link": true
    }
  },
  "nbformat": 4,
  "nbformat_minor": 0
}